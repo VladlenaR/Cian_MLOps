{
 "cells": [
  {
   "cell_type": "code",
   "execution_count": 150,
   "id": "620ce4a4",
   "metadata": {},
   "outputs": [],
   "source": [
    "import pandas as pd\n",
    "import numpy as np\n",
    "import tqdm\n",
    "import warnings\n",
    "import yaml\n",
    "import math\n",
    "\n",
    "import os\n",
    "\n",
    "warnings.filterwarnings('ignore')"
   ]
  },
  {
   "cell_type": "markdown",
   "id": "be433c51",
   "metadata": {},
   "source": [
    "# Описание задачи\n",
    "\n",
    "Задача предсказания цен на квартиры в Москве - задача регрессии\n",
    "\n",
    "Она может быть важна для агентств недвижимости, инвесторов, застройщиков и других участников рынка недвижимости. На основе предсказаний цен можно делать более точные прогнозы доходности инвестиций, планировать стратегии продаж и закупки объектов недвижимости, а также определять ценообразование на рынке."
   ]
  },
  {
   "cell_type": "markdown",
   "id": "592759f4",
   "metadata": {},
   "source": [
    "# Описание данных:\n",
    "\n",
    "- author - автор объявления\n",
    "\n",
    "- author_type - тип автора (real_estate_agent - агентство недвижимости, homeowner - собственник, realtor - риелтор, official_representative - ук оф.представитель, representative_developer - представитель застройщика, developer - застройщик, unknown - без указанного типа)\n",
    "\n",
    "- link - ссылка на объявление\n",
    "\n",
    "- city - город, в котором находится квартира\n",
    "\n",
    "- deal_type - тип объявления, к примеру, долгосрочная, краткосрочная аренда, продажа (\"rent_long\", \"rent_short\", \"sale\")\n",
    "\n",
    "- accommodation_type - вид жилья, к примеру, квартира, комната, дом, часть дома, таунхаус (\"flat\", \"room\", \"house\", \"house-part\", \"townhouse\")\n",
    "\n",
    "- floor - этаж, на котором находится квартира\n",
    "\n",
    "- floors_count - общее количество этажей в доме\n",
    "\n",
    "- rooms_count - количество комнат в квартире\n",
    "\n",
    "- total_meters - общая площадь\n",
    "\n",
    "- price_per_m2 - стоимость на квадратный метр\n",
    "\n",
    "- **price - стоимость квартиры (целевая переменная)**\n",
    "\n",
    "- district - район, в котором находится квартира\n",
    "\n",
    "- street - улица\n",
    "\n",
    "- underground - метро\n",
    "\n",
    "- residential_complex - название жилого комплекса\n",
    "\n",
    "- line - ветка, на которой находится метро\n",
    "\n",
    "- area - округ, в котором находится квартира\n",
    "\n",
    "- eco_rating - экологический рейтинг района, в котром находится квартира\n",
    "\n",
    "- insufficient_infrastructure - недостаточно инфраструктуры, %\n",
    "\n",
    "- convenient_for_life - удобность для жизни, %\n",
    "\n",
    "- very_convenient_for_life - очень комфортный для жизни, %\n",
    "\n",
    "- few_entertainment - недостаточно мест для досуга и развлечений, %\n",
    "\n",
    "- cultural - оценка культурных мест, %\n",
    "\n",
    "- entertainment - оценка развлекательных мест, %\n",
    "\n",
    "- cultural_entertainment - оценка культурно-развлекательных мест, %\n",
    "\n",
    "- residential_infrastructure_rating - рейтинг жилой инфраструктуры \n",
    "\n",
    "- entertainment_infrastructure_rating - рейтинг развлекательной инфраструктуры \n",
    "\n",
    "- square - площадь района\n",
    "\n",
    "- population - численность населения в районе\n",
    "\n",
    "- housing_fund_area - площадь жилфонда\n",
    "\n",
    "- line_count - количество пересадочных станций\n",
    "\n",
    "- author_count - количество объявлений у автора\n",
    "\n",
    "- author_more - флаг, который показывает что у автора больше двух объявлений\n",
    "\n",
    "- floor_position - позиция этажа (2 - последний этаж, 1 -первый этаж, 0 - середина)\n",
    "\n",
    "- house_category - категория дома в зависимости от количества этажей (1 - малоэтажные (1 - 2 этажа), 2 - средней этажности (3 - 5 этажей), 3 - многоэтажные (6-10), 4 - повышенной этажности (11 - 16 этажей), 5 - высотные (16-50 этажей), 6 - очень высотные (более 50 этажей))\n",
    "- population_density - плотность населения района"
   ]
  },
  {
   "cell_type": "code",
   "execution_count": 151,
   "id": "ceb30991",
   "metadata": {},
   "outputs": [],
   "source": [
    "config_path = '../config/params.yaml'\n",
    "config = yaml.load(open(config_path, encoding='utf-8'), Loader=yaml.FullLoader)\n",
    "\n",
    "preprocessing = config['preprocessing']\n",
    "train = config['train']"
   ]
  },
  {
   "cell_type": "markdown",
   "id": "9e0e6e85",
   "metadata": {},
   "source": [
    "считаем все файлы из папки"
   ]
  },
  {
   "cell_type": "code",
   "execution_count": 152,
   "id": "a3527ca7",
   "metadata": {},
   "outputs": [],
   "source": [
    "def read_all_df_folder(path: str, sep:str = None) -> pd.DataFrame:\n",
    "    \"\"\"\n",
    "    Читает все файлы CSV из указанной папки и объединяет их в один датафрейм.\n",
    "    :param path: путь к папке, содержащей файлы CSV\n",
    "    :return: датафрейм\n",
    "    \"\"\"\n",
    "    all_csv_data = []\n",
    "\n",
    "    for filename in os.listdir(path):\n",
    "        if filename.endswith('.csv'):\n",
    "            df = pd.read_csv(os.path.join(path, filename), sep=sep)\n",
    "            all_csv_data.append(df)\n",
    "\n",
    "    df = pd.concat(all_csv_data, axis=0, ignore_index=True)\n",
    "    return df"
   ]
  },
  {
   "cell_type": "code",
   "execution_count": 153,
   "id": "94620814",
   "metadata": {},
   "outputs": [],
   "source": [
    "cian = read_all_df_folder('../data/true', ';')"
   ]
  },
  {
   "cell_type": "code",
   "execution_count": 154,
   "id": "be8f5c3c",
   "metadata": {},
   "outputs": [
    {
     "data": {
      "text/plain": [
       "(15458, 16)"
      ]
     },
     "execution_count": 154,
     "metadata": {},
     "output_type": "execute_result"
    }
   ],
   "source": [
    "cian.shape"
   ]
  },
  {
   "cell_type": "code",
   "execution_count": 155,
   "id": "a43886e0",
   "metadata": {
    "scrolled": true
   },
   "outputs": [
    {
     "data": {
      "text/html": [
       "<div>\n",
       "<style scoped>\n",
       "    .dataframe tbody tr th:only-of-type {\n",
       "        vertical-align: middle;\n",
       "    }\n",
       "\n",
       "    .dataframe tbody tr th {\n",
       "        vertical-align: top;\n",
       "    }\n",
       "\n",
       "    .dataframe thead th {\n",
       "        text-align: right;\n",
       "    }\n",
       "</style>\n",
       "<table border=\"1\" class=\"dataframe\">\n",
       "  <thead>\n",
       "    <tr style=\"text-align: right;\">\n",
       "      <th></th>\n",
       "      <th>author</th>\n",
       "      <th>link</th>\n",
       "      <th>city</th>\n",
       "      <th>deal_type</th>\n",
       "      <th>accommodation_type</th>\n",
       "      <th>floor</th>\n",
       "      <th>floors_count</th>\n",
       "      <th>rooms_count</th>\n",
       "      <th>total_meters</th>\n",
       "      <th>price</th>\n",
       "      <th>district</th>\n",
       "      <th>street</th>\n",
       "      <th>underground</th>\n",
       "      <th>residential_complex</th>\n",
       "      <th>author_type</th>\n",
       "      <th>price_per_m2</th>\n",
       "    </tr>\n",
       "  </thead>\n",
       "  <tbody>\n",
       "    <tr>\n",
       "      <th>0</th>\n",
       "      <td>Sminex-Интеко</td>\n",
       "      <td>https://www.cian.ru/sale/flat/281914898/</td>\n",
       "      <td>Москва</td>\n",
       "      <td>sale</td>\n",
       "      <td>flat</td>\n",
       "      <td>3</td>\n",
       "      <td>5</td>\n",
       "      <td>2</td>\n",
       "      <td>67.07</td>\n",
       "      <td>149930000</td>\n",
       "      <td>Тверской</td>\n",
       "      <td>NaN</td>\n",
       "      <td>Площадь Революции</td>\n",
       "      <td>Ильинка 3/8 ЖК</td>\n",
       "      <td>NaN</td>\n",
       "      <td>NaN</td>\n",
       "    </tr>\n",
       "    <tr>\n",
       "      <th>1</th>\n",
       "      <td>MR Group</td>\n",
       "      <td>https://www.cian.ru/sale/flat/285682464/</td>\n",
       "      <td>Москва</td>\n",
       "      <td>sale</td>\n",
       "      <td>flat</td>\n",
       "      <td>3</td>\n",
       "      <td>10</td>\n",
       "      <td>2</td>\n",
       "      <td>62.70</td>\n",
       "      <td>34485000</td>\n",
       "      <td>Беговой</td>\n",
       "      <td>Северный ао</td>\n",
       "      <td>Белорусская</td>\n",
       "      <td>Слава ЖК</td>\n",
       "      <td>NaN</td>\n",
       "      <td>NaN</td>\n",
       "    </tr>\n",
       "    <tr>\n",
       "      <th>2</th>\n",
       "      <td>GloraX</td>\n",
       "      <td>https://www.cian.ru/sale/flat/277738124/</td>\n",
       "      <td>Москва</td>\n",
       "      <td>sale</td>\n",
       "      <td>flat</td>\n",
       "      <td>5</td>\n",
       "      <td>21</td>\n",
       "      <td>2</td>\n",
       "      <td>77.85</td>\n",
       "      <td>34069999</td>\n",
       "      <td>Беговой</td>\n",
       "      <td>1-я Ямского Поля</td>\n",
       "      <td>Белорусская</td>\n",
       "      <td>Глоракс Премиум Белорусская</td>\n",
       "      <td>NaN</td>\n",
       "      <td>NaN</td>\n",
       "    </tr>\n",
       "    <tr>\n",
       "      <th>3</th>\n",
       "      <td>ANT Development</td>\n",
       "      <td>https://www.cian.ru/sale/flat/283856161/</td>\n",
       "      <td>Москва</td>\n",
       "      <td>sale</td>\n",
       "      <td>flat</td>\n",
       "      <td>27</td>\n",
       "      <td>32</td>\n",
       "      <td>2</td>\n",
       "      <td>50.90</td>\n",
       "      <td>40703799</td>\n",
       "      <td>Дорогомилово</td>\n",
       "      <td>Поклонная</td>\n",
       "      <td>Парк Победы</td>\n",
       "      <td>Поклонная 9</td>\n",
       "      <td>NaN</td>\n",
       "      <td>NaN</td>\n",
       "    </tr>\n",
       "    <tr>\n",
       "      <th>4</th>\n",
       "      <td>Sminex-Интеко</td>\n",
       "      <td>https://www.cian.ru/sale/flat/281051002/</td>\n",
       "      <td>Москва</td>\n",
       "      <td>sale</td>\n",
       "      <td>flat</td>\n",
       "      <td>6</td>\n",
       "      <td>14</td>\n",
       "      <td>2</td>\n",
       "      <td>85.60</td>\n",
       "      <td>187560000</td>\n",
       "      <td>Якиманка</td>\n",
       "      <td>NaN</td>\n",
       "      <td>Полянка</td>\n",
       "      <td>Лаврушинский ЖК</td>\n",
       "      <td>NaN</td>\n",
       "      <td>NaN</td>\n",
       "    </tr>\n",
       "  </tbody>\n",
       "</table>\n",
       "</div>"
      ],
      "text/plain": [
       "            author                                      link    city  \\\n",
       "0    Sminex-Интеко  https://www.cian.ru/sale/flat/281914898/  Москва   \n",
       "1         MR Group  https://www.cian.ru/sale/flat/285682464/  Москва   \n",
       "2           GloraX  https://www.cian.ru/sale/flat/277738124/  Москва   \n",
       "3  ANT Development  https://www.cian.ru/sale/flat/283856161/  Москва   \n",
       "4    Sminex-Интеко  https://www.cian.ru/sale/flat/281051002/  Москва   \n",
       "\n",
       "  deal_type accommodation_type  floor  floors_count  rooms_count  \\\n",
       "0      sale               flat      3             5            2   \n",
       "1      sale               flat      3            10            2   \n",
       "2      sale               flat      5            21            2   \n",
       "3      sale               flat     27            32            2   \n",
       "4      sale               flat      6            14            2   \n",
       "\n",
       "   total_meters      price      district            street        underground  \\\n",
       "0         67.07  149930000      Тверской               NaN  Площадь Революции   \n",
       "1         62.70   34485000       Беговой       Северный ао        Белорусская   \n",
       "2         77.85   34069999       Беговой  1-я Ямского Поля        Белорусская   \n",
       "3         50.90   40703799  Дорогомилово         Поклонная        Парк Победы   \n",
       "4         85.60  187560000      Якиманка               NaN            Полянка   \n",
       "\n",
       "           residential_complex author_type  price_per_m2  \n",
       "0               Ильинка 3/8 ЖК         NaN           NaN  \n",
       "1                     Слава ЖК         NaN           NaN  \n",
       "2  Глоракс Премиум Белорусская         NaN           NaN  \n",
       "3                  Поклонная 9         NaN           NaN  \n",
       "4              Лаврушинский ЖК         NaN           NaN  "
      ]
     },
     "execution_count": 155,
     "metadata": {},
     "output_type": "execute_result"
    }
   ],
   "source": [
    "cian.head()"
   ]
  },
  {
   "cell_type": "markdown",
   "id": "250b21be",
   "metadata": {},
   "source": [
    "удалим дубликаты"
   ]
  },
  {
   "cell_type": "code",
   "execution_count": 156,
   "id": "b91effa4",
   "metadata": {},
   "outputs": [],
   "source": [
    "def drop_duplicates_df(df: pd.DataFrame, subset: list = None) -> pd.DataFrame:\n",
    "    \"\"\"\n",
    "    Удаляет дубликаты из указанного датафрейма\n",
    "    :param df: исходный датафрейм\n",
    "    :return: датафрейм\n",
    "    \"\"\"\n",
    "\n",
    "    df.drop_duplicates(inplace=True, subset=subset)\n",
    "    return df"
   ]
  },
  {
   "cell_type": "code",
   "execution_count": 157,
   "id": "03ff07d5",
   "metadata": {},
   "outputs": [],
   "source": [
    "cian = drop_duplicates_df(cian)"
   ]
  },
  {
   "cell_type": "code",
   "execution_count": 158,
   "id": "fa958548",
   "metadata": {},
   "outputs": [
    {
     "name": "stdout",
     "output_type": "stream",
     "text": [
      "<class 'pandas.core.frame.DataFrame'>\n",
      "Int64Index: 13302 entries, 0 to 15413\n",
      "Data columns (total 16 columns):\n",
      " #   Column               Non-Null Count  Dtype  \n",
      "---  ------               --------------  -----  \n",
      " 0   author               13142 non-null  object \n",
      " 1   link                 13302 non-null  object \n",
      " 2   city                 13302 non-null  object \n",
      " 3   deal_type            13302 non-null  object \n",
      " 4   accommodation_type   13302 non-null  object \n",
      " 5   floor                13302 non-null  int64  \n",
      " 6   floors_count         13302 non-null  int64  \n",
      " 7   rooms_count          13302 non-null  int64  \n",
      " 8   total_meters         13302 non-null  float64\n",
      " 9   price                13302 non-null  int64  \n",
      " 10  district             11965 non-null  object \n",
      " 11  street               10728 non-null  object \n",
      " 12  underground          12987 non-null  object \n",
      " 13  residential_complex  8533 non-null   object \n",
      " 14  author_type          9650 non-null   object \n",
      " 15  price_per_m2         9756 non-null   float64\n",
      "dtypes: float64(2), int64(4), object(10)\n",
      "memory usage: 1.7+ MB\n"
     ]
    }
   ],
   "source": [
    "cian.info()"
   ]
  },
  {
   "cell_type": "markdown",
   "id": "34449e38",
   "metadata": {},
   "source": [
    "сохраним унакальные значения признаков"
   ]
  },
  {
   "cell_type": "code",
   "execution_count": 159,
   "id": "797b6547",
   "metadata": {},
   "outputs": [],
   "source": [
    "def save_unique_data(data: pd.DataFrame, drop_columns: list,\n",
    "                           target_column: str,\n",
    "                           unique_values_path: str) -> None:\n",
    "    \"\"\"\n",
    "    Сохранение словаря с признаками и уникальными значениями\n",
    "    :param drop_columns: список с признаками для удаления\n",
    "    :param data: датасет\n",
    "    :param target_column: целевая переменная\n",
    "    :param unique_values_path: путь до файла со словарем\n",
    "    :return: None\n",
    "    \"\"\"\n",
    "    unique_df = data.drop(columns=drop_columns + [target_column],\n",
    "                          axis=1,\n",
    "                          errors=\"ignore\")\n",
    "    dict_unique = {\n",
    "        key: unique_df[key].unique().tolist()\n",
    "        for key in unique_df.columns\n",
    "    }\n",
    "    with open(unique_values_path, \"w\") as file:\n",
    "        json.dump(dict_unique, file)"
   ]
  },
  {
   "cell_type": "code",
   "execution_count": 160,
   "id": "b024e690",
   "metadata": {},
   "outputs": [],
   "source": [
    "save_unique_data(\n",
    "    data=cian,\n",
    "    drop_columns=preprocessing[\"drop_columns\"],\n",
    "    target_column=preprocessing[\"target_column\"],\n",
    "    unique_values_path=preprocessing[\"unique_values_path\"],\n",
    ")"
   ]
  },
  {
   "cell_type": "markdown",
   "id": "7ec9c2ec",
   "metadata": {},
   "source": [
    "прочитаем и присоеденим к основному датафрейму дополнительные признаки"
   ]
  },
  {
   "cell_type": "code",
   "execution_count": 161,
   "id": "21f1fa24",
   "metadata": {},
   "outputs": [],
   "source": [
    "def read_df(path: str, sep: str = None, encoding: str = None) -> pd.DataFrame:\n",
    "    \"\"\"\n",
    "    Читает файл CSV и возвращает его содержимое в виде датафрейма.\n",
    "    :param path: путь к папке, содержащей файлы CSV\n",
    "    :param sep: опциональный разделитель столбцов\n",
    "    :param encoding: опциональная кодировка файла\n",
    "    :return: датафрейм\n",
    "    \"\"\"\n",
    "    df = pd.read_csv(path,\n",
    "                     sep=sep,\n",
    "                     encoding=encoding)\n",
    "    return df"
   ]
  },
  {
   "cell_type": "code",
   "execution_count": 162,
   "id": "4cbd136a",
   "metadata": {},
   "outputs": [],
   "source": [
    "underground_line = read_df('../data/add/underground.csv',\n",
    "                           sep=';',\n",
    "                           encoding='cp1251')"
   ]
  },
  {
   "cell_type": "code",
   "execution_count": 163,
   "id": "b5599cd5",
   "metadata": {},
   "outputs": [],
   "source": [
    "geo = read_df('../data/add/Moscow_Population_2018.csv')"
   ]
  },
  {
   "cell_type": "code",
   "execution_count": 164,
   "id": "ebeed55d",
   "metadata": {},
   "outputs": [],
   "source": [
    "eco = read_df('../data/add/eco.csv')"
   ]
  },
  {
   "cell_type": "code",
   "execution_count": 165,
   "id": "32aca723",
   "metadata": {},
   "outputs": [],
   "source": [
    "rating = read_df('../data/add/raiting_yandex.csv',\n",
    "                 encoding='cp1251',\n",
    "                 sep='\\t')"
   ]
  },
  {
   "cell_type": "code",
   "execution_count": 166,
   "id": "f8db8020",
   "metadata": {},
   "outputs": [],
   "source": [
    "def df_merge(df: pd.DataFrame,\n",
    "                        data_list: list,\n",
    "                        columns: list,\n",
    "                        left_on_list: list,\n",
    "                        right_on_list: list,\n",
    "                        how: str) -> pd.DataFrame:\n",
    "    \"\"\"\n",
    "    Объединяет таблицу `df` с несколькими таблицами из списка `data_list` по указанным столбцам.\n",
    "    :param df: основная таблица\n",
    "    :param data_list: список таблиц для объединения с основной таблицей\n",
    "    :param columns: список столбцов из дополннительных таблиц, которые нужно объединить с основной\n",
    "    :param left_on_list: список столбцов для объединения в `df` для каждой таблицы\n",
    "    :param right_on_list: список столбцов для объединения в таблицах из `data_list` для каждой таблицы\n",
    "    :param how: способ объединения\n",
    "    :return: объединенную таблицу\n",
    "    \"\"\"\n",
    "    \n",
    "    \n",
    "    for data, col, left, right in zip(data_list, columns, left_on_list, right_on_list):\n",
    "        if col == None:\n",
    "            col = list(data.columns)\n",
    "        df = df.merge(data[col],\n",
    "                      left_on=left,\n",
    "                      right_on=right,\n",
    "                      how=how).drop_duplicates()\n",
    "    return df"
   ]
  },
  {
   "cell_type": "code",
   "execution_count": 167,
   "id": "0901272e",
   "metadata": {},
   "outputs": [],
   "source": [
    "df_add = [underground_line, eco, rating, geo]"
   ]
  },
  {
   "cell_type": "code",
   "execution_count": 168,
   "id": "0370ea95",
   "metadata": {},
   "outputs": [],
   "source": [
    "cian = df_merge(cian,\n",
    "                df_add,\n",
    "                preprocessing['df_add_col'],\n",
    "                preprocessing['df_add_left'],\n",
    "                preprocessing['df_add_right'],\n",
    "                preprocessing['how'],)"
   ]
  },
  {
   "cell_type": "code",
   "execution_count": 169,
   "id": "23a6b8cf",
   "metadata": {},
   "outputs": [],
   "source": [
    "def drop_column(df: pd.DataFrame, column_name: list) -> pd.DataFrame:\n",
    "    \"\"\"\n",
    "    Удаляет указанные столбецы из датафрейма.\n",
    "    :param df: исходный датафрейм\n",
    "    :param column_name: имя столбца, который нужно удалить\n",
    "    :return: датафрейм с удаленным столбцом\n",
    "    \"\"\"\n",
    "\n",
    "    df = df.drop(column_name, axis=1)\n",
    "    return df"
   ]
  },
  {
   "cell_type": "code",
   "execution_count": 170,
   "id": "6ac52b49",
   "metadata": {},
   "outputs": [
    {
     "name": "stdout",
     "output_type": "stream",
     "text": [
      "<class 'pandas.core.frame.DataFrame'>\n",
      "Int64Index: 16209 entries, 0 to 16208\n",
      "Data columns (total 35 columns):\n",
      " #   Column                               Non-Null Count  Dtype  \n",
      "---  ------                               --------------  -----  \n",
      " 0   author                               16006 non-null  object \n",
      " 1   link                                 16209 non-null  object \n",
      " 2   city                                 16209 non-null  object \n",
      " 3   deal_type                            16209 non-null  object \n",
      " 4   accommodation_type                   16209 non-null  object \n",
      " 5   floor                                16209 non-null  int64  \n",
      " 6   floors_count                         16209 non-null  int64  \n",
      " 7   rooms_count                          16209 non-null  int64  \n",
      " 8   total_meters                         16209 non-null  float64\n",
      " 9   price                                16209 non-null  int64  \n",
      " 10  district                             14872 non-null  object \n",
      " 11  street                               13367 non-null  object \n",
      " 12  underground                          15894 non-null  object \n",
      " 13  residential_complex                  10690 non-null  object \n",
      " 14  author_type                          11679 non-null  object \n",
      " 15  price_per_m2                         11814 non-null  float64\n",
      " 16  Station                              14485 non-null  object \n",
      " 17  Line                                 14485 non-null  object \n",
      " 18  area                                 12793 non-null  object \n",
      " 19  eco_rating                           12793 non-null  float64\n",
      " 20  insufficient_infrastructure          12752 non-null  float64\n",
      " 21  convenient_for_life                  12752 non-null  float64\n",
      " 22  very_convenient_for_life             12752 non-null  float64\n",
      " 23  few_entertainment                    12752 non-null  float64\n",
      " 24  cultural                             12752 non-null  float64\n",
      " 25  entertainment                        12752 non-null  float64\n",
      " 26  cultural_entertainment               12752 non-null  float64\n",
      " 27  top_residential_infrastructure       12752 non-null  float64\n",
      " 28  top_entertainment_infrastructure     12752 non-null  float64\n",
      " 29  residential_infrastructure_rating    12752 non-null  float64\n",
      " 30  entertainment_infrastructure_rating  12752 non-null  float64\n",
      " 31  Район                                12811 non-null  object \n",
      " 32  Площадь                              12811 non-null  object \n",
      " 33  Население                            12811 non-null  float64\n",
      " 34  Площадь жилфонда                     12811 non-null  object \n",
      "dtypes: float64(15), int64(4), object(16)\n",
      "memory usage: 4.5+ MB\n"
     ]
    }
   ],
   "source": [
    "cian.info()"
   ]
  },
  {
   "cell_type": "code",
   "execution_count": 171,
   "id": "a53142a5",
   "metadata": {},
   "outputs": [],
   "source": [
    "def rename_columns(df: pd.DataFrame, column_mapping: dict) -> pd.DataFrame:\n",
    "    \"\"\"\n",
    "    Переименовывает столбцы указанного датафрейма согласно заданному отображению.\n",
    "    :param df: исходный датафрейм\n",
    "    :param column_mapping: словарь с отображением старых и новых имен столбцов\n",
    "    :return: датафрейм\n",
    "    \"\"\"\n",
    "    df = df.rename(columns=column_mapping)\n",
    "    return df"
   ]
  },
  {
   "cell_type": "code",
   "execution_count": 172,
   "id": "6f950c9d",
   "metadata": {},
   "outputs": [],
   "source": [
    "cian = rename_columns(cian, preprocessing['rename_columns'])"
   ]
  },
  {
   "cell_type": "code",
   "execution_count": 173,
   "id": "d51935f4",
   "metadata": {},
   "outputs": [],
   "source": [
    "def add_column_from_mapping(df: pd.DataFrame, column: str,\n",
    "                            mapping_column: str) -> pd.DataFrame:\n",
    "    \"\"\"\n",
    "    Добавляет новый признак с количеством уникальных значений в указанный датафрейм,\n",
    "    используя значения из другого столбца.\n",
    "    :param df: исходный датафрейм\n",
    "    :param column: имя нового столбца, который будет добавлен\n",
    "    :param mapping_column:имя столбца, из которого будут взяты значения для отображения\n",
    "    :return: датафрейм с добавленным новым столбцом\n",
    "    \"\"\"\n",
    "    df[column] = df[mapping_column].map(df[mapping_column].value_counts())\n",
    "    return df"
   ]
  },
  {
   "cell_type": "markdown",
   "id": "d5199769",
   "metadata": {},
   "source": [
    "создадим новые признаки"
   ]
  },
  {
   "cell_type": "code",
   "execution_count": 174,
   "id": "dfde1ff1",
   "metadata": {},
   "outputs": [],
   "source": [
    "cian = add_column_from_mapping(cian, 'line_count', 'line')"
   ]
  },
  {
   "cell_type": "code",
   "execution_count": 175,
   "id": "7d8a9fe4",
   "metadata": {},
   "outputs": [],
   "source": [
    "cian = add_column_from_mapping(cian, 'author_count', 'author')"
   ]
  },
  {
   "cell_type": "code",
   "execution_count": 176,
   "id": "b610433e",
   "metadata": {},
   "outputs": [],
   "source": [
    "def add_column_limit(df: pd.DataFrame,\n",
    "                           column_name: str,\n",
    "                           new_column_name: str,\n",
    "                           threshold: int = 2) -> pd.DataFrame:\n",
    "    \"\"\"\n",
    "    Добавляет новый столбец в указанный датафрейм, который указывает,\n",
    "    превышает ли значение столбца заданный порог.\n",
    "    :param df: исходный датафрейм\n",
    "    :param column_name: имя столбца 'author_count'\n",
    "    :param threshold: пороговое значение (по умолчанию 2)\n",
    "    :return: датафрейм с добавленным столбцом 'author_more'\n",
    "    \"\"\"\n",
    "\n",
    "    df[new_column_name] = df[column_name].apply(lambda x: 1\n",
    "                                              if x > threshold else 0)\n",
    "    return df"
   ]
  },
  {
   "cell_type": "code",
   "execution_count": 177,
   "id": "27bebc6e",
   "metadata": {},
   "outputs": [],
   "source": [
    "cian = add_column_limit(cian, 'author_count', 'author_more', threshold=2)"
   ]
  },
  {
   "cell_type": "code",
   "execution_count": 178,
   "id": "644d041a",
   "metadata": {},
   "outputs": [],
   "source": [
    "def get_floor_position(data: pd.Series)-> int: \n",
    "    \"\"\"\n",
    "    Определяет позицию этажа\n",
    "    0 - среднии этажи\n",
    "    1 - первый этаж \n",
    "    2 - последний этаж\n",
    "    :param data: датафрейм\n",
    "    :return: бинаризованные значения\n",
    "    \"\"\"\n",
    "    if data['floor'] == 1:\n",
    "        return 1\n",
    "    elif data['floor'] == data['floors_count']:\n",
    "        return 2\n",
    "    else:\n",
    "        return 0"
   ]
  },
  {
   "cell_type": "code",
   "execution_count": 179,
   "id": "154f1f0e",
   "metadata": {},
   "outputs": [],
   "source": [
    "cian['floor_position'] = cian.apply(lambda x: get_floor_position(x), axis=1)"
   ]
  },
  {
   "cell_type": "code",
   "execution_count": 180,
   "id": "0af38d23",
   "metadata": {},
   "outputs": [],
   "source": [
    "def get_house_category(data: pd.Series)-> int: \n",
    "    \"\"\"\n",
    "    Эта функция подразделяет дома а категории в зависимости от количества этажей.\n",
    "    По этажности жилые дома подразделяют на:\n",
    "    - малоэтажные (1 - 2 этажа)\n",
    "    - средней этажности (3 - 5 этажей)\n",
    "    - многоэтажные (6-10)\n",
    "    - повышенной этажности (11 - 16 этажей)\n",
    "    - высотные (16-50 этажей)\n",
    "    - очень высотные (более 50 этажей)\n",
    "    :param data: датафрейм\n",
    "    :return: бинаризованные значения\n",
    "    \"\"\"\n",
    "\n",
    "    if data <= 2:\n",
    "        return 1\n",
    "    elif data > 2 and data <= 5:\n",
    "        return 2\n",
    "    elif data > 5 and data <= 10:\n",
    "        return 3\n",
    "    elif data > 10 and data <= 16:\n",
    "        return 4\n",
    "    elif data > 16 and data <= 50:\n",
    "        return 5\n",
    "    elif data > 50:\n",
    "        return 6"
   ]
  },
  {
   "cell_type": "code",
   "execution_count": 181,
   "id": "ebfa002d",
   "metadata": {},
   "outputs": [],
   "source": [
    "cian['house_category'] = cian['floors_count'].apply(\n",
    "    lambda x: get_house_category(x))"
   ]
  },
  {
   "cell_type": "code",
   "execution_count": 182,
   "id": "07950bde",
   "metadata": {},
   "outputs": [],
   "source": [
    "cian = drop_duplicates_df(cian, subset=preprocessing['drop_duplicates'])"
   ]
  },
  {
   "cell_type": "code",
   "execution_count": 183,
   "id": "4f29e391",
   "metadata": {
    "scrolled": true
   },
   "outputs": [
    {
     "name": "stdout",
     "output_type": "stream",
     "text": [
      "<class 'pandas.core.frame.DataFrame'>\n",
      "Int64Index: 12159 entries, 0 to 16208\n",
      "Data columns (total 40 columns):\n",
      " #   Column                               Non-Null Count  Dtype  \n",
      "---  ------                               --------------  -----  \n",
      " 0   author                               12026 non-null  object \n",
      " 1   link                                 12159 non-null  object \n",
      " 2   city                                 12159 non-null  object \n",
      " 3   deal_type                            12159 non-null  object \n",
      " 4   accommodation_type                   12159 non-null  object \n",
      " 5   floor                                12159 non-null  int64  \n",
      " 6   floors_count                         12159 non-null  int64  \n",
      " 7   rooms_count                          12159 non-null  int64  \n",
      " 8   total_meters                         12159 non-null  float64\n",
      " 9   price                                12159 non-null  int64  \n",
      " 10  district                             10887 non-null  object \n",
      " 11  street                               9754 non-null   object \n",
      " 12  underground                          11864 non-null  object \n",
      " 13  residential_complex                  7657 non-null   object \n",
      " 14  author_type                          8596 non-null   object \n",
      " 15  price_per_m2                         8676 non-null   float64\n",
      " 16  Station                              10526 non-null  object \n",
      " 17  line                                 10526 non-null  object \n",
      " 18  area                                 9259 non-null   object \n",
      " 19  eco_rating                           9259 non-null   float64\n",
      " 20  insufficient_infrastructure          9220 non-null   float64\n",
      " 21  convenient_for_life                  9220 non-null   float64\n",
      " 22  very_convenient_for_life             9220 non-null   float64\n",
      " 23  few_entertainment                    9220 non-null   float64\n",
      " 24  cultural                             9220 non-null   float64\n",
      " 25  entertainment                        9220 non-null   float64\n",
      " 26  cultural_entertainment               9220 non-null   float64\n",
      " 27  top_residential_infrastructure       9220 non-null   float64\n",
      " 28  top_entertainment_infrastructure     9220 non-null   float64\n",
      " 29  residential_infrastructure_rating    9220 non-null   float64\n",
      " 30  entertainment_infrastructure_rating  9220 non-null   float64\n",
      " 31  Район                                9277 non-null   object \n",
      " 32  square                               9277 non-null   object \n",
      " 33  population                           9277 non-null   float64\n",
      " 34  housing_fund_area                    9277 non-null   object \n",
      " 35  line_count                           10526 non-null  float64\n",
      " 36  author_count                         12026 non-null  float64\n",
      " 37  author_more                          12159 non-null  int64  \n",
      " 38  floor_position                       12159 non-null  int64  \n",
      " 39  house_category                       12159 non-null  int64  \n",
      "dtypes: float64(17), int64(7), object(16)\n",
      "memory usage: 3.8+ MB\n"
     ]
    }
   ],
   "source": [
    "cian.info()"
   ]
  },
  {
   "cell_type": "code",
   "execution_count": 184,
   "id": "fcbaacd4",
   "metadata": {},
   "outputs": [],
   "source": [
    "def remove_correlated_features(df: pd.DataFrame,\n",
    "                                      threshold: float = 0.9) -> pd.DataFrame:\n",
    "    \"\"\"\n",
    "    Удаляет признаки из указанного датафрейма, у которых корреляция превышает заданный порог.\n",
    "    :param df: исходный датафрейм\n",
    "    :param threshold: пороговое значение корреляции (по умолчанию 0.9)\n",
    "    :return: датафрейм с удаленными признаками с высокой корреляцией\n",
    "    \"\"\"\n",
    "    corr_matrix = df.corr().abs()\n",
    "    upper_triangle = corr_matrix.where(\n",
    "        pd.np.triu(pd.np.ones(corr_matrix.shape), k=1).astype(bool))\n",
    "    high_corr_features = [\n",
    "        column for column in upper_triangle.columns\n",
    "        if any(upper_triangle[column] > threshold)\n",
    "    ]\n",
    "    df.drop(high_corr_features, axis=1, inplace=True)\n",
    "\n",
    "    return df"
   ]
  },
  {
   "cell_type": "code",
   "execution_count": 185,
   "id": "48a1079c",
   "metadata": {},
   "outputs": [],
   "source": [
    "cian = remove_correlated_features(cian)"
   ]
  },
  {
   "cell_type": "code",
   "execution_count": 186,
   "id": "b751010b",
   "metadata": {
    "scrolled": false
   },
   "outputs": [
    {
     "name": "stdout",
     "output_type": "stream",
     "text": [
      "<class 'pandas.core.frame.DataFrame'>\n",
      "Int64Index: 12159 entries, 0 to 16208\n",
      "Data columns (total 37 columns):\n",
      " #   Column                          Non-Null Count  Dtype  \n",
      "---  ------                          --------------  -----  \n",
      " 0   author                          12026 non-null  object \n",
      " 1   link                            12159 non-null  object \n",
      " 2   city                            12159 non-null  object \n",
      " 3   deal_type                       12159 non-null  object \n",
      " 4   accommodation_type              12159 non-null  object \n",
      " 5   floor                           12159 non-null  int64  \n",
      " 6   floors_count                    12159 non-null  int64  \n",
      " 7   rooms_count                     12159 non-null  int64  \n",
      " 8   total_meters                    12159 non-null  float64\n",
      " 9   price                           12159 non-null  int64  \n",
      " 10  district                        10887 non-null  object \n",
      " 11  street                          9754 non-null   object \n",
      " 12  underground                     11864 non-null  object \n",
      " 13  residential_complex             7657 non-null   object \n",
      " 14  author_type                     8596 non-null   object \n",
      " 15  price_per_m2                    8676 non-null   float64\n",
      " 16  Station                         10526 non-null  object \n",
      " 17  line                            10526 non-null  object \n",
      " 18  area                            9259 non-null   object \n",
      " 19  eco_rating                      9259 non-null   float64\n",
      " 20  insufficient_infrastructure     9220 non-null   float64\n",
      " 21  convenient_for_life             9220 non-null   float64\n",
      " 22  very_convenient_for_life        9220 non-null   float64\n",
      " 23  few_entertainment               9220 non-null   float64\n",
      " 24  cultural                        9220 non-null   float64\n",
      " 25  entertainment                   9220 non-null   float64\n",
      " 26  cultural_entertainment          9220 non-null   float64\n",
      " 27  top_residential_infrastructure  9220 non-null   float64\n",
      " 28  Район                           9277 non-null   object \n",
      " 29  square                          9277 non-null   object \n",
      " 30  population                      9277 non-null   float64\n",
      " 31  housing_fund_area               9277 non-null   object \n",
      " 32  line_count                      10526 non-null  float64\n",
      " 33  author_count                    12026 non-null  float64\n",
      " 34  author_more                     12159 non-null  int64  \n",
      " 35  floor_position                  12159 non-null  int64  \n",
      " 36  house_category                  12159 non-null  int64  \n",
      "dtypes: float64(14), int64(7), object(16)\n",
      "memory usage: 3.5+ MB\n"
     ]
    }
   ],
   "source": [
    "cian.info()"
   ]
  },
  {
   "cell_type": "markdown",
   "id": "2b5131ff",
   "metadata": {},
   "source": [
    "удалим коррелирующие признаки"
   ]
  },
  {
   "cell_type": "code",
   "execution_count": 187,
   "id": "bbbedb3b",
   "metadata": {},
   "outputs": [],
   "source": [
    "cian = drop_column(cian, preprocessing['drop_columns'])"
   ]
  },
  {
   "cell_type": "code",
   "execution_count": 188,
   "id": "f6e3faf1",
   "metadata": {},
   "outputs": [
    {
     "name": "stdout",
     "output_type": "stream",
     "text": [
      "<class 'pandas.core.frame.DataFrame'>\n",
      "Int64Index: 12159 entries, 0 to 16208\n",
      "Data columns (total 29 columns):\n",
      " #   Column                          Non-Null Count  Dtype  \n",
      "---  ------                          --------------  -----  \n",
      " 0   author                          12026 non-null  object \n",
      " 1   floor                           12159 non-null  int64  \n",
      " 2   floors_count                    12159 non-null  int64  \n",
      " 3   rooms_count                     12159 non-null  int64  \n",
      " 4   total_meters                    12159 non-null  float64\n",
      " 5   price                           12159 non-null  int64  \n",
      " 6   district                        10887 non-null  object \n",
      " 7   street                          9754 non-null   object \n",
      " 8   underground                     11864 non-null  object \n",
      " 9   residential_complex             7657 non-null   object \n",
      " 10  line                            10526 non-null  object \n",
      " 11  area                            9259 non-null   object \n",
      " 12  eco_rating                      9259 non-null   float64\n",
      " 13  insufficient_infrastructure     9220 non-null   float64\n",
      " 14  convenient_for_life             9220 non-null   float64\n",
      " 15  very_convenient_for_life        9220 non-null   float64\n",
      " 16  few_entertainment               9220 non-null   float64\n",
      " 17  cultural                        9220 non-null   float64\n",
      " 18  entertainment                   9220 non-null   float64\n",
      " 19  cultural_entertainment          9220 non-null   float64\n",
      " 20  top_residential_infrastructure  9220 non-null   float64\n",
      " 21  square                          9277 non-null   object \n",
      " 22  population                      9277 non-null   float64\n",
      " 23  housing_fund_area               9277 non-null   object \n",
      " 24  line_count                      10526 non-null  float64\n",
      " 25  author_count                    12026 non-null  float64\n",
      " 26  author_more                     12159 non-null  int64  \n",
      " 27  floor_position                  12159 non-null  int64  \n",
      " 28  house_category                  12159 non-null  int64  \n",
      "dtypes: float64(13), int64(7), object(9)\n",
      "memory usage: 2.8+ MB\n"
     ]
    }
   ],
   "source": [
    "cian.info()"
   ]
  },
  {
   "cell_type": "code",
   "execution_count": 189,
   "id": "88a34e3b",
   "metadata": {
    "scrolled": true
   },
   "outputs": [
    {
     "data": {
      "text/plain": [
       "author                             133\n",
       "floor                                0\n",
       "floors_count                         0\n",
       "rooms_count                          0\n",
       "total_meters                         0\n",
       "price                                0\n",
       "district                          1272\n",
       "street                            2405\n",
       "underground                        295\n",
       "residential_complex               4502\n",
       "line                              1633\n",
       "area                              2900\n",
       "eco_rating                        2900\n",
       "insufficient_infrastructure       2939\n",
       "convenient_for_life               2939\n",
       "very_convenient_for_life          2939\n",
       "few_entertainment                 2939\n",
       "cultural                          2939\n",
       "entertainment                     2939\n",
       "cultural_entertainment            2939\n",
       "top_residential_infrastructure    2939\n",
       "square                            2882\n",
       "population                        2882\n",
       "housing_fund_area                 2882\n",
       "line_count                        1633\n",
       "author_count                       133\n",
       "author_more                          0\n",
       "floor_position                       0\n",
       "house_category                       0\n",
       "dtype: int64"
      ]
     },
     "execution_count": 189,
     "metadata": {},
     "output_type": "execute_result"
    }
   ],
   "source": [
    "cian.isna().sum()"
   ]
  },
  {
   "cell_type": "markdown",
   "id": "f49df31a",
   "metadata": {},
   "source": [
    "заполним пропуски"
   ]
  },
  {
   "cell_type": "code",
   "execution_count": 190,
   "id": "87b04d75",
   "metadata": {},
   "outputs": [],
   "source": [
    "def fill_na_values(data: pd.DataFrame, fill_na_val: dict) -> pd.DataFrame:\n",
    "    \"\"\"\n",
    "    Заполнение пропусков заданными значениями\n",
    "    :param data: датафрейм\n",
    "    :param fill_na_val: словарь с названиями признаков и значением, которым нужно заполнить пропуки\n",
    "    :return: датафрейм\n",
    "    \"\"\"\n",
    "    return data.fillna(fill_na_val)"
   ]
  },
  {
   "cell_type": "code",
   "execution_count": 191,
   "id": "a9dec705",
   "metadata": {},
   "outputs": [],
   "source": [
    "cian = fill_na_values(cian, preprocessing['columns_fill_na'])"
   ]
  },
  {
   "cell_type": "code",
   "execution_count": 192,
   "id": "4df4ea89",
   "metadata": {},
   "outputs": [],
   "source": [
    "def replace_dot(df: pd.DataFrame, columns: list) -> pd.DataFrame:\n",
    "    \"\"\"\n",
    "    Заменяет запятые на точки в указанных столбцах датафрейма.\n",
    "    :param df: исходный датафрейм\n",
    "    :param columns: список имен столбцов, в которых нужно заменить запятые на точки\n",
    "    :return: pd.DataFrame, датафрейм с выполненной заменой\n",
    "    \"\"\"\n",
    "    for column in columns:\n",
    "        df[column] = df[column].apply(lambda x: x.replace(',', '.'))\n",
    "    return df"
   ]
  },
  {
   "cell_type": "code",
   "execution_count": 193,
   "id": "005ac325",
   "metadata": {},
   "outputs": [],
   "source": [
    "cian = replace_dot(cian, ['square', 'housing_fund_area'])"
   ]
  },
  {
   "cell_type": "code",
   "execution_count": 194,
   "id": "92bf325f",
   "metadata": {},
   "outputs": [
    {
     "data": {
      "text/plain": [
       "author                            0\n",
       "floor                             0\n",
       "floors_count                      0\n",
       "rooms_count                       0\n",
       "total_meters                      0\n",
       "price                             0\n",
       "district                          0\n",
       "street                            0\n",
       "underground                       0\n",
       "residential_complex               0\n",
       "line                              0\n",
       "area                              0\n",
       "eco_rating                        0\n",
       "insufficient_infrastructure       0\n",
       "convenient_for_life               0\n",
       "very_convenient_for_life          0\n",
       "few_entertainment                 0\n",
       "cultural                          0\n",
       "entertainment                     0\n",
       "cultural_entertainment            0\n",
       "top_residential_infrastructure    0\n",
       "square                            0\n",
       "population                        0\n",
       "housing_fund_area                 0\n",
       "line_count                        0\n",
       "author_count                      0\n",
       "author_more                       0\n",
       "floor_position                    0\n",
       "house_category                    0\n",
       "dtype: int64"
      ]
     },
     "execution_count": 194,
     "metadata": {},
     "output_type": "execute_result"
    }
   ],
   "source": [
    "cian.isna().sum()"
   ]
  },
  {
   "cell_type": "markdown",
   "id": "4f040c86",
   "metadata": {},
   "source": [
    "переведём признаки в соотвествующие типы"
   ]
  },
  {
   "cell_type": "code",
   "execution_count": 195,
   "id": "1db0d721",
   "metadata": {},
   "outputs": [],
   "source": [
    "def transform_types(data: pd.DataFrame, change_col_types: dict) -> pd.DataFrame:\n",
    "    \"\"\"\n",
    "    Преобразование признаков в заданный тип данных\n",
    "    :param data: датасет\n",
    "    :param change_type_columns: словарь с признаками и типами данных\n",
    "    :return: датафрейм\n",
    "    \"\"\"\n",
    "    return data.astype(change_col_types, errors=\"raise\")"
   ]
  },
  {
   "cell_type": "code",
   "execution_count": 196,
   "id": "10c07f20",
   "metadata": {},
   "outputs": [],
   "source": [
    "cian = transform_types(data=cian, change_col_types=preprocessing['change_col_types'])"
   ]
  },
  {
   "cell_type": "code",
   "execution_count": 197,
   "id": "706d5e37",
   "metadata": {},
   "outputs": [],
   "source": [
    "def population_density(df, population_column, square_column, new_column_name):\n",
    "    \"\"\"\n",
    "    Вычисляет плотность населения для каждой записи в датафрейме и добавляет\n",
    "    новый столбец с результатами.\n",
    "    :param df: исходный датафрейм\n",
    "    :param population_column: имя столбца с населением\n",
    "    :param square_column: имя столбца с площадью\n",
    "    :param new_column_name: имя нового столбца\n",
    "    :return: датафрейм\n",
    "    \"\"\"\n",
    "\n",
    "    df[new_column_name] = df.apply(lambda x: round(x[population_column] / x[square_column], 2), axis=1)\n",
    "    return df"
   ]
  },
  {
   "cell_type": "code",
   "execution_count": 198,
   "id": "27913016",
   "metadata": {},
   "outputs": [],
   "source": [
    "cian = population_density(cian, 'population', 'square', 'population_density')"
   ]
  },
  {
   "cell_type": "code",
   "execution_count": 199,
   "id": "b43505b2",
   "metadata": {},
   "outputs": [],
   "source": [
    "def replace_single_value(df:pd.DataFrame, column:str) -> pd.DataFrame:\n",
    "    \"\"\"\n",
    "    Заменяет уникальные значения столбца, которые встречаются только один раз,\n",
    "    на строку 'None' внутри указанного датафрейма\n",
    "    :param df: датафрейм\n",
    "    :param column: имя столбца, в котором выполняется замена\n",
    "    :return: датафрейм\n",
    "    \"\"\"\n",
    "    counts = df[column].value_counts()\n",
    "    for index, value in counts.items():\n",
    "        if value == 1:\n",
    "            df[column].replace({index: 'None'}, inplace=True)\n",
    "    return df"
   ]
  },
  {
   "cell_type": "markdown",
   "id": "aa578173",
   "metadata": {},
   "source": [
    "Если какое то значение в признаке district встречается 1 раз, то переименовываем его в None, так как скорее всего ввели ошибочные данные"
   ]
  },
  {
   "cell_type": "code",
   "execution_count": 200,
   "id": "1668e610",
   "metadata": {},
   "outputs": [],
   "source": [
    "cian = replace_single_value(cian, 'district')"
   ]
  },
  {
   "cell_type": "code",
   "execution_count": 201,
   "id": "989e1ad4",
   "metadata": {
    "scrolled": false
   },
   "outputs": [
    {
     "name": "stdout",
     "output_type": "stream",
     "text": [
      "<class 'pandas.core.frame.DataFrame'>\n",
      "Int64Index: 12159 entries, 0 to 16208\n",
      "Data columns (total 30 columns):\n",
      " #   Column                          Non-Null Count  Dtype   \n",
      "---  ------                          --------------  -----   \n",
      " 0   author                          12159 non-null  category\n",
      " 1   floor                           12159 non-null  int32   \n",
      " 2   floors_count                    12159 non-null  int32   \n",
      " 3   rooms_count                     12159 non-null  int32   \n",
      " 4   total_meters                    12159 non-null  float32 \n",
      " 5   price                           12159 non-null  int64   \n",
      " 6   district                        12159 non-null  category\n",
      " 7   street                          12159 non-null  category\n",
      " 8   underground                     12159 non-null  category\n",
      " 9   residential_complex             12159 non-null  category\n",
      " 10  line                            12159 non-null  category\n",
      " 11  area                            12159 non-null  category\n",
      " 12  eco_rating                      12159 non-null  int32   \n",
      " 13  insufficient_infrastructure     12159 non-null  int32   \n",
      " 14  convenient_for_life             12159 non-null  int32   \n",
      " 15  very_convenient_for_life        12159 non-null  int32   \n",
      " 16  few_entertainment               12159 non-null  int32   \n",
      " 17  cultural                        12159 non-null  int32   \n",
      " 18  entertainment                   12159 non-null  int32   \n",
      " 19  cultural_entertainment          12159 non-null  int32   \n",
      " 20  top_residential_infrastructure  12159 non-null  float64 \n",
      " 21  square                          12159 non-null  float32 \n",
      " 22  population                      12159 non-null  int32   \n",
      " 23  housing_fund_area               12159 non-null  float32 \n",
      " 24  line_count                      12159 non-null  int32   \n",
      " 25  author_count                    12159 non-null  int32   \n",
      " 26  author_more                     12159 non-null  int32   \n",
      " 27  floor_position                  12159 non-null  int32   \n",
      " 28  house_category                  12159 non-null  int32   \n",
      " 29  population_density              12159 non-null  float64 \n",
      "dtypes: category(7), float32(3), float64(2), int32(17), int64(1)\n",
      "memory usage: 1.6 MB\n"
     ]
    }
   ],
   "source": [
    "cian.info()"
   ]
  },
  {
   "cell_type": "markdown",
   "id": "168b511c",
   "metadata": {},
   "source": [
    "сохраняем полученный датафрейм"
   ]
  },
  {
   "cell_type": "code",
   "execution_count": 202,
   "id": "e94f83b7",
   "metadata": {},
   "outputs": [],
   "source": [
    "cian.to_csv(config['preprocessing']['final_df'], index=False)"
   ]
  },
  {
   "cell_type": "code",
   "execution_count": null,
   "id": "8b89c60b",
   "metadata": {},
   "outputs": [],
   "source": []
  }
 ],
 "metadata": {
  "kernelspec": {
   "display_name": "Python 3 (ipykernel)",
   "language": "python",
   "name": "python3"
  },
  "language_info": {
   "codemirror_mode": {
    "name": "ipython",
    "version": 3
   },
   "file_extension": ".py",
   "mimetype": "text/x-python",
   "name": "python",
   "nbconvert_exporter": "python",
   "pygments_lexer": "ipython3",
   "version": "3.9.7"
  },
  "toc": {
   "base_numbering": 1,
   "nav_menu": {},
   "number_sections": true,
   "sideBar": true,
   "skip_h1_title": false,
   "title_cell": "Table of Contents",
   "title_sidebar": "Contents",
   "toc_cell": false,
   "toc_position": {},
   "toc_section_display": true,
   "toc_window_display": false
  }
 },
 "nbformat": 4,
 "nbformat_minor": 5
}
